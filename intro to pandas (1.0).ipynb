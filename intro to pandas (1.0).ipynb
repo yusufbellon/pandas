{
 "cells": [
  {
   "cell_type": "code",
   "execution_count": 1,
   "id": "c1e54947",
   "metadata": {},
   "outputs": [],
   "source": [
    "#pandas \n",
    "import pandas as pd"
   ]
  },
  {
   "cell_type": "code",
   "execution_count": 2,
   "id": "16864562",
   "metadata": {
    "scrolled": true
   },
   "outputs": [
    {
     "name": "stdout",
     "output_type": "stream",
     "text": [
      "<module 'pandas' from 'C:\\\\Users\\\\Syahya\\\\anaconda3\\\\lib\\\\site-packages\\\\pandas\\\\__init__.py'>\n"
     ]
    }
   ],
   "source": [
    "print(pd)"
   ]
  },
  {
   "cell_type": "code",
   "execution_count": 3,
   "id": "925f6e1b",
   "metadata": {},
   "outputs": [
    {
     "data": {
      "text/plain": [
       "0     handa\n",
       "1    toyota\n",
       "2    peugot\n",
       "3     lexus\n",
       "dtype: object"
      ]
     },
     "execution_count": 3,
     "metadata": {},
     "output_type": "execute_result"
    }
   ],
   "source": [
    "#Data types\n",
    "cars = pd.Series(['handa','toyota','peugot','lexus'])\n",
    "#print(cars)\n",
    "cars"
   ]
  },
  {
   "cell_type": "code",
   "execution_count": 4,
   "id": "25b6be7b",
   "metadata": {},
   "outputs": [],
   "source": [
    "#colors\n",
    "colors = pd.Series(['red','blue','green','black'])"
   ]
  },
  {
   "cell_type": "code",
   "execution_count": 5,
   "id": "5bb8918d",
   "metadata": {},
   "outputs": [
    {
     "data": {
      "text/plain": [
       "0      red\n",
       "1     blue\n",
       "2    green\n",
       "3    black\n",
       "dtype: object"
      ]
     },
     "execution_count": 5,
     "metadata": {},
     "output_type": "execute_result"
    }
   ],
   "source": [
    "colors"
   ]
  },
  {
   "cell_type": "code",
   "execution_count": 9,
   "id": "4c3c0171",
   "metadata": {},
   "outputs": [],
   "source": [
    "price = pd.Series(['$1000','$500','$800','$760'])"
   ]
  },
  {
   "cell_type": "code",
   "execution_count": 10,
   "id": "6b886a62",
   "metadata": {},
   "outputs": [
    {
     "data": {
      "text/html": [
       "<div>\n",
       "<style scoped>\n",
       "    .dataframe tbody tr th:only-of-type {\n",
       "        vertical-align: middle;\n",
       "    }\n",
       "\n",
       "    .dataframe tbody tr th {\n",
       "        vertical-align: top;\n",
       "    }\n",
       "\n",
       "    .dataframe thead th {\n",
       "        text-align: right;\n",
       "    }\n",
       "</style>\n",
       "<table border=\"1\" class=\"dataframe\">\n",
       "  <thead>\n",
       "    <tr style=\"text-align: right;\">\n",
       "      <th></th>\n",
       "      <th>car model</th>\n",
       "      <th>colors</th>\n",
       "      <th>price</th>\n",
       "    </tr>\n",
       "  </thead>\n",
       "  <tbody>\n",
       "    <tr>\n",
       "      <th>0</th>\n",
       "      <td>handa</td>\n",
       "      <td>red</td>\n",
       "      <td>$1000</td>\n",
       "    </tr>\n",
       "    <tr>\n",
       "      <th>1</th>\n",
       "      <td>toyota</td>\n",
       "      <td>blue</td>\n",
       "      <td>$500</td>\n",
       "    </tr>\n",
       "    <tr>\n",
       "      <th>2</th>\n",
       "      <td>peugot</td>\n",
       "      <td>green</td>\n",
       "      <td>$800</td>\n",
       "    </tr>\n",
       "    <tr>\n",
       "      <th>3</th>\n",
       "      <td>lexus</td>\n",
       "      <td>black</td>\n",
       "      <td>$760</td>\n",
       "    </tr>\n",
       "  </tbody>\n",
       "</table>\n",
       "</div>"
      ],
      "text/plain": [
       "  car model colors  price\n",
       "0     handa    red  $1000\n",
       "1    toyota   blue   $500\n",
       "2    peugot  green   $800\n",
       "3     lexus  black   $760"
      ]
     },
     "execution_count": 10,
     "metadata": {},
     "output_type": "execute_result"
    }
   ],
   "source": [
    "#DataFrame\n",
    "car_data = pd.DataFrame({'car model':cars, 'colors':colors, 'price': price})\n",
    "car_data"
   ]
  },
  {
   "cell_type": "code",
   "execution_count": null,
   "id": "a694aade",
   "metadata": {},
   "outputs": [],
   "source": []
  }
 ],
 "metadata": {
  "kernelspec": {
   "display_name": "Python 3 (ipykernel)",
   "language": "python",
   "name": "python3"
  },
  "language_info": {
   "codemirror_mode": {
    "name": "ipython",
    "version": 3
   },
   "file_extension": ".py",
   "mimetype": "text/x-python",
   "name": "python",
   "nbconvert_exporter": "python",
   "pygments_lexer": "ipython3",
   "version": "3.11.5"
  }
 },
 "nbformat": 4,
 "nbformat_minor": 5
}
