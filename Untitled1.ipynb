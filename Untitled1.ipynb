{
 "cells": [
  {
   "cell_type": "code",
   "execution_count": 1,
   "id": "c30d435e",
   "metadata": {},
   "outputs": [],
   "source": [
    "import pandas as pd"
   ]
  },
  {
   "cell_type": "code",
   "execution_count": 5,
   "id": "237601a1",
   "metadata": {},
   "outputs": [],
   "source": [
    "food = pd.Series ([\"protein\", \"carbohydrate\", \"fat\"])"
   ]
  },
  {
   "cell_type": "code",
   "execution_count": 6,
   "id": "8a0061db",
   "metadata": {},
   "outputs": [
    {
     "data": {
      "text/plain": [
       "0         protein\n",
       "1    carbohydrate\n",
       "2             fat\n",
       "dtype: object"
      ]
     },
     "execution_count": 6,
     "metadata": {},
     "output_type": "execute_result"
    }
   ],
   "source": [
    "food"
   ]
  },
  {
   "cell_type": "code",
   "execution_count": 9,
   "id": "3d10376f",
   "metadata": {},
   "outputs": [],
   "source": [
    "teams = pd.Series ([\"Arsenal\", \"Manchester\", \"Real_Madrid\", \"Barcelona\"])"
   ]
  },
  {
   "cell_type": "code",
   "execution_count": 10,
   "id": "9207bee2",
   "metadata": {},
   "outputs": [
    {
     "data": {
      "text/plain": [
       "0        Arsenal\n",
       "1     Manchester\n",
       "2    Real_Madrid\n",
       "3      Barcelona\n",
       "dtype: object"
      ]
     },
     "execution_count": 10,
     "metadata": {},
     "output_type": "execute_result"
    }
   ],
   "source": [
    "teams"
   ]
  },
  {
   "cell_type": "code",
   "execution_count": 11,
   "id": "8c3c15b8",
   "metadata": {},
   "outputs": [],
   "source": [
    "foods = pd.Series ([\"rice\", \"beans\", \"apples\", \"oranges\"])"
   ]
  },
  {
   "cell_type": "code",
   "execution_count": 12,
   "id": "72844245",
   "metadata": {},
   "outputs": [
    {
     "data": {
      "text/plain": [
       "0       rice\n",
       "1      beans\n",
       "2     apples\n",
       "3    oranges\n",
       "dtype: object"
      ]
     },
     "execution_count": 12,
     "metadata": {},
     "output_type": "execute_result"
    }
   ],
   "source": [
    "foods"
   ]
  },
  {
   "cell_type": "code",
   "execution_count": 13,
   "id": "d9b9e7c2",
   "metadata": {},
   "outputs": [],
   "source": [
    "price = pd.Series ([\"$20\", \"$45\", \"$10\", \"$70\"])"
   ]
  },
  {
   "cell_type": "code",
   "execution_count": 14,
   "id": "9fc66e66",
   "metadata": {},
   "outputs": [
    {
     "data": {
      "text/plain": [
       "0    $20\n",
       "1    $45\n",
       "2    $10\n",
       "3    $70\n",
       "dtype: object"
      ]
     },
     "execution_count": 14,
     "metadata": {},
     "output_type": "execute_result"
    }
   ],
   "source": [
    "price"
   ]
  },
  {
   "cell_type": "code",
   "execution_count": 15,
   "id": "dd206171",
   "metadata": {},
   "outputs": [],
   "source": [
    "food_data = pd.DataFrame ({\"foods item\": foods, \"price of item\": price })"
   ]
  },
  {
   "cell_type": "code",
   "execution_count": 16,
   "id": "005ccbd3",
   "metadata": {},
   "outputs": [
    {
     "data": {
      "text/html": [
       "<div>\n",
       "<style scoped>\n",
       "    .dataframe tbody tr th:only-of-type {\n",
       "        vertical-align: middle;\n",
       "    }\n",
       "\n",
       "    .dataframe tbody tr th {\n",
       "        vertical-align: top;\n",
       "    }\n",
       "\n",
       "    .dataframe thead th {\n",
       "        text-align: right;\n",
       "    }\n",
       "</style>\n",
       "<table border=\"1\" class=\"dataframe\">\n",
       "  <thead>\n",
       "    <tr style=\"text-align: right;\">\n",
       "      <th></th>\n",
       "      <th>foods item</th>\n",
       "      <th>price of item</th>\n",
       "    </tr>\n",
       "  </thead>\n",
       "  <tbody>\n",
       "    <tr>\n",
       "      <th>0</th>\n",
       "      <td>rice</td>\n",
       "      <td>$20</td>\n",
       "    </tr>\n",
       "    <tr>\n",
       "      <th>1</th>\n",
       "      <td>beans</td>\n",
       "      <td>$45</td>\n",
       "    </tr>\n",
       "    <tr>\n",
       "      <th>2</th>\n",
       "      <td>apples</td>\n",
       "      <td>$10</td>\n",
       "    </tr>\n",
       "    <tr>\n",
       "      <th>3</th>\n",
       "      <td>oranges</td>\n",
       "      <td>$70</td>\n",
       "    </tr>\n",
       "  </tbody>\n",
       "</table>\n",
       "</div>"
      ],
      "text/plain": [
       "  foods item price of item\n",
       "0       rice           $20\n",
       "1      beans           $45\n",
       "2     apples           $10\n",
       "3    oranges           $70"
      ]
     },
     "execution_count": 16,
     "metadata": {},
     "output_type": "execute_result"
    }
   ],
   "source": [
    "food_data"
   ]
  },
  {
   "cell_type": "code",
   "execution_count": null,
   "id": "8faa3333",
   "metadata": {},
   "outputs": [],
   "source": []
  }
 ],
 "metadata": {
  "kernelspec": {
   "display_name": "Python 3 (ipykernel)",
   "language": "python",
   "name": "python3"
  },
  "language_info": {
   "codemirror_mode": {
    "name": "ipython",
    "version": 3
   },
   "file_extension": ".py",
   "mimetype": "text/x-python",
   "name": "python",
   "nbconvert_exporter": "python",
   "pygments_lexer": "ipython3",
   "version": "3.11.5"
  }
 },
 "nbformat": 4,
 "nbformat_minor": 5
}
